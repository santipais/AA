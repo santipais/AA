{
  "cells": [
    {
      "cell_type": "markdown",
      "metadata": {
        "id": "J5BsQyr1pHeF"
      },
      "source": [
        "# Entrega 2 - Título\n",
        "\n",
        "### Grupo 12:\n",
        "     - Santiago Pais  C.I. 5.136.231-0\n",
        "     - Tiagui Samurio C.I. 5.240.686-6\n",
        "     - Agustin Gamio C.I. 5.166.722-5"
      ]
    },
    {
      "cell_type": "markdown",
      "metadata": {
        "id": "T40gWLmGpHeI"
      },
      "source": [
        "## 1. Objetivo"
      ]
    },
    {
      "cell_type": "markdown",
      "metadata": {
        "id": "CFyuMW8RpHeI"
      },
      "source": [
        "El objetivo de esta tarea es construir un jugador/clasificador/... utilizando... .\n",
        "\n",
        "El éxito del aprendizaje se mide a través de...\n"
      ]
    },
    {
      "cell_type": "markdown",
      "metadata": {
        "id": "Bcug_goxpHeJ"
      },
      "source": [
        "## 2. Evaluación de Herramientas"
      ]
    },
    {
      "cell_type": "markdown",
      "metadata": {
        "id": "ba8r4Y-SpHeJ"
      },
      "source": [
        "**Preprocesamiento**\n",
        "\n",
        "* Valores faltantes: No aplica\n",
        "* Atributos categóricos: No aplica, Naive Bayes trabaja con atributos categóricos\n",
        "* Atributos numéricos: división en rangos de la misma manera que para construír un histograma\n",
        "* Estandarización de atributos: como se utiliza la probabilidad de ocurrencia de un valor para un atributo y ésta ya está normalizada por definición. No aplica\n",
        "* Estratificación: Puede ser de utilidad dado que la clase objetivo está desbalanceada\n",
        "\n",
        "**División del conjunto de datos**\n",
        "\n",
        "*Métodos de filtrado*\n",
        "* Básica: sirve para estudiar la utilidad de variables numéricas\n",
        "* $χ^2$: sirve para estudiar la utilidad de las variables binarias y categóricas.\n",
        "* Ganancia de información: ya fue utilizado en el laboratorio anterior.\n",
        "\n",
        "*Métodos Wrappers*: No aplica.\n",
        "\n",
        "*Métodos Embedded*: No aplica.\n",
        "\n",
        "**Entrenamiento**\n",
        "\n",
        "* Validación cruzada: sirve para una mejor utilización del corpus de entrenamiento y permite disminuír la varianza de los resultados (por tanto es más confiable).\n",
        "\n",
        "**Evaluación**\n",
        "\n",
        "Se utizarán los siguientes métodos:\n",
        "* Accuracy\n",
        "* Evaluación de hipótesis\n",
        "* Precisión y recuperación\n",
        "* Medida F\n",
        "* Curvas Precisión - Recall\n",
        "* Matriz de confusión\n",
        "\n"
      ]
    },
    {
      "cell_type": "code",
      "source": [
        "############## CARGA DE DATOS ######################\n",
        "\n",
        "import pandas as pd\n",
        "import numpy as np\n",
        "from sklearn import model_selection\n",
        "from sklearn.feature_selection import SelectKBest, chi2\n",
        "\n",
        "DATASET_FILE = \"./lab1_dataset.csv\""
      ],
      "metadata": {
        "id": "ryudDnc88OiS"
      },
      "execution_count": null,
      "outputs": []
    },
    {
      "cell_type": "code",
      "source": [
        "dataset = pd.read_csv(DATASET_FILE, sep=\",\")\n",
        "dataset = dataset.drop('pidnum', axis=1)\n",
        "print(\n",
        "    f\"{dataset.shape[0]} records read from {DATASET_FILE}\\n{dataset.shape[1]} attributes found\"\n",
        ")\n"
      ],
      "metadata": {
        "id": "BrpcktA-8Rb7",
        "colab": {
          "base_uri": "https://localhost:8080/"
        },
        "outputId": "95594035-ab7d-414d-af30-0c0cddb763b2"
      },
      "execution_count": null,
      "outputs": [
        {
          "output_type": "stream",
          "name": "stdout",
          "text": [
            "2139 records read from ./lab1_dataset.csv\n",
            "24 attributes found\n"
          ]
        }
      ]
    },
    {
      "cell_type": "markdown",
      "source": [
        "###Preprocesamiento\n",
        "\n",
        "De datos numéricos:\n",
        "* Se utilizará el filtrado básico para atributos numéricos, descartando aquellos que presenten una baja varianza."
      ],
      "metadata": {
        "id": "OcHXquDz9n2d"
      }
    },
    {
      "cell_type": "code",
      "source": [
        "#Valores numericos:\n",
        "numeric_values = [\"time\", \"age\", \"wtkg\", \"karnof\", \"preanti\", \"cd40\", \"cd420\", \"cd80\", \"cd820\"] #strat es categorico pero tiene un orden claro. (P.ej: caso max range = 2, splitter lo partiria en (No uso el tratamiento, uso el tratamiento) o bien (Uso el tratamiento por <= 52 semanas, uso el tratamiento > 52 semanas))\n",
        "categorical_values = [\"trt\", \"strat\"]\n",
        "binary_values = [\"cid\",\"hemo\",\"homo\",\"drugs\",\"oprior\",\"z30\",\"zprior\",\"gender\",\"str2\",\"symptom\",\"treat\",\"offtrt\"]\n",
        "dataset.head(10)\n",
        "\n",
        "statistics = {}\n",
        "for attribute in numeric_values:\n",
        "    mean_value = dataset[attribute].mean()\n",
        "    std_value = dataset[attribute].std()\n",
        "    statistics[attribute] = {'mean': mean_value, 'std': std_value}\n",
        "    if std_value < 100:\n",
        "      dataset.drop(attribute,axis=1)\n",
        "      print(f\"El atributo {attribute} fue eliminado pues su desviación estandar = {std_value} era muy baja\")\n"
      ],
      "metadata": {
        "id": "TJyB-EKo8T9p",
        "colab": {
          "base_uri": "https://localhost:8080/"
        },
        "outputId": "c68fe458-5b90-44ea-b1a3-1472a89514e0"
      },
      "execution_count": null,
      "outputs": [
        {
          "output_type": "stream",
          "name": "stdout",
          "text": [
            "El atributo age fue eliminado pues su desviación estandar = 8.70902623400872 era muy baja\n",
            "El atributo wtkg fue eliminado pues su desviación estandar = 13.263164003518359 era muy baja\n",
            "El atributo karnof fue eliminado pues su desviación estandar = 5.900984556229983 era muy baja\n"
          ]
        }
      ]
    },
    {
      "cell_type": "markdown",
      "source": [
        "De datos categóricos y binarios:\n",
        "* se utilizará el método $χ^2$ para obtener los atributos más correlacionados con la clase objetivo."
      ],
      "metadata": {
        "id": "552JyWFpKFk9"
      }
    },
    {
      "cell_type": "code",
      "source": [
        "y = dataset['cid']\n",
        "\n",
        "# Selección de características\n",
        "selector = SelectKBest(score_func=chi2, k=14)\n",
        "selected_features = selector.fit_transform(dataset, y)\n",
        "\n",
        "# Convertir el resultado de nuevo en un DataFrame\n",
        "selected_columns = dataset.columns[selector.get_support()]\n",
        "dataset = pd.DataFrame(selected_features, columns=selected_columns)\n",
        "\n",
        "dataset.head(10)\n",
        "unique_values = {col: dataset[col].dropna().unique().tolist() for col in dataset.columns}\n",
        "unique_counts = {col: len(values) for col, values in unique_values.items()}\n",
        "print(unique_counts)"
      ],
      "metadata": {
        "colab": {
          "base_uri": "https://localhost:8080/"
        },
        "id": "ugLyE3tJKi4f",
        "outputId": "ece1d0c3-20ec-412b-d683-605bc5fac650"
      },
      "execution_count": null,
      "outputs": [
        {
          "output_type": "stream",
          "name": "stdout",
          "text": [
            "{'cid': 2, 'time': 713, 'trt': 4, 'age': 59, 'z30': 2, 'preanti': 813, 'str2': 2, 'strat': 3, 'symptom': 2, 'offtrt': 2, 'cd40': 484, 'cd420': 570, 'cd80': 1090, 'cd820': 1050}\n"
          ]
        }
      ]
    },
    {
      "cell_type": "code",
      "source": [
        "train, test = model_selection.train_test_split(dataset, test_size=0.2, random_state=42)"
      ],
      "metadata": {
        "id": "cWxEiTrh8YKe"
      },
      "execution_count": null,
      "outputs": []
    },
    {
      "cell_type": "code",
      "source": [
        "def m_estimator(m,p,nc,n):\n",
        "    #return (nc + (m * p)) / (n + m)\n",
        "    return  np.log((nc + (m * p)) / (n + m))"
      ],
      "metadata": {
        "id": "yIZ4p5Vm8ae_"
      },
      "execution_count": null,
      "outputs": []
    },
    {
      "cell_type": "code",
      "source": [
        "def nb(ds,instance):\n",
        "    m = 1000 #m_estimator\n",
        "    given_1 = {} #diccionario que tiene la cantidad de instancias de cada atributo y un valor de este atriburo dado la columna cid == 0\n",
        "    given_0 = {} #diccionario que tiene la cantidad de instancias de cada atributo y un valor de este atriburo dado la columna cid == 0\n",
        "    \"\"\"\n",
        "    given_0 = {'trt': {1: 342, 3: 340, 2: 327, 0: 282},\n",
        "               'hemo': {0: 1183, 1: 108},\n",
        "               'homo': {1: 836, 0: 455},\n",
        "               ...\n",
        "               }\n",
        "    \"\"\"\n",
        "    total_instances = ds.shape[0] #cantidad de instancias de train\n",
        "    total_0 = ds[ds['cid'] == 0].shape[0] #cantidad de instancia de train donde cid == 0\n",
        "    total_1 = ds[ds['cid'] == 1].shape[0] #cantidad de instancia de train donde cid == 0\n",
        "    prob_0 = total_0 / total_instances\n",
        "    prob_1 = total_1 / total_instances\n",
        "    ds_filtrado_0  = ds[(ds['cid'] == 0)]\n",
        "    ds_filtrado_1 = ds[(ds['cid'] == 1)]\n",
        "    for col in ds.columns:  #aca lleno los diccionarios given_1 y given_0.\n",
        "        if col == 'cid':\n",
        "            continue\n",
        "        # Obtengo la cantidad de ocurrencias de todos los valores en la columna col, dado cid == 0.\n",
        "        value_counts = ds_filtrado_0[col].value_counts().to_dict()\n",
        "        # Aseguro que todos los valores esten incluidos\n",
        "        for value in unique_values[col]: #en caso de que en el conj. de datos train no tenga todos los valores posibles, agrego el valor con 0, ya que tiene 0 ocurrencais\n",
        "            if value not in value_counts:\n",
        "                value_counts[value] = 0\n",
        "        # Store the value counts in the dictionary\n",
        "        given_0[col] = value_counts\n",
        "        # Obtengo la cantidad de ocurrencias de todos los valores en la columna col, dado cid == 0.\n",
        "        value_counts = ds_filtrado_1[col].value_counts().to_dict()\n",
        "        for value in unique_values[col]:\n",
        "            if value not in value_counts:\n",
        "                value_counts[value] = 0\n",
        "        # Store the value counts in the dictionary\n",
        "        given_1[col] = value_counts\n",
        "    prob_given_0 = 0\n",
        "    prob_given_1 = 0\n",
        "    for col in ds.columns:\n",
        "        if col == 'cid':\n",
        "            continue\n",
        "        #prob_given_0 = prob_given_0 * (m_estimator(m,(1/unique_counts[col]),given_0[col][instance[col]],total_0))\n",
        "        #prob_given_1 = prob_given_1 * (m_estimator(m,1/unique_counts[col],given_1[col][instance[col]],total_1))\n",
        "        prob_given_0 = prob_given_0 + (m_estimator(m,(1/unique_counts[col]),given_0[col][instance[col]],total_0))\n",
        "        prob_given_1 = prob_given_1 + (m_estimator(m,1/unique_counts[col],given_1[col][instance[col]],total_1))\n",
        "    prob_given_0 = prob_given_0 + np.log(prob_0)\n",
        "    prob_given_1 = prob_given_1 + np.log(prob_1)\n",
        "    #print (given_0)\n",
        "    if prob_given_0 >= prob_given_1:\n",
        "        return 0\n",
        "    else:\n",
        "        return 1\n"
      ],
      "metadata": {
        "id": "_ZREAo_L8gu7"
      },
      "execution_count": null,
      "outputs": []
    },
    {
      "cell_type": "code",
      "source": [
        "#Funcion usada para evaluar el modelo generalizado.\n",
        "resultados = {\n",
        "    'Accuaracy': [],\n",
        "    'Precisión': [],\n",
        "    'Recall': [],\n",
        "    'F1-Score': []\n",
        "}\n",
        "\n",
        "def evaluar(train,test):\n",
        "    true_positives = {} #Número de instancias correctamente predichas para una clase específica.\n",
        "    false_positives = {} #Número de instancias predichas como una clase específica pero que pertenecen a otra clase.\n",
        "    false_negatives = {} #Número de instancias de una clase específica que no fueron predichas correctamente.\n",
        "    true_negatives = {} #Número de instancias correctamente identificadas como no pertenecientes a una clase específica.\n",
        "    clases = test['cid'].unique()\n",
        "    # Initialize dictionaries for each class\n",
        "    for clase in clases:\n",
        "        true_positives[clase] = 0   #true_positives[0] tomo como positivo 0 y negativo 1 y asi.\n",
        "        false_positives[clase] = 0\n",
        "        false_negatives[clase] = 0\n",
        "        true_negatives[clase] = 0\n",
        "\n",
        "    # Evaluate the model on the test data\n",
        "    for i, instancia in test.iterrows():\n",
        "        etiqueta_real = instancia['cid']\n",
        "        prediccion = nb(train,instancia)\n",
        "\n",
        "        if prediccion == etiqueta_real:\n",
        "            true_positives[etiqueta_real] += 1\n",
        "            for clase in clases:\n",
        "                if clase != etiqueta_real:\n",
        "                    true_negatives[clase] += 1\n",
        "        else:\n",
        "            false_positives[prediccion] += 1\n",
        "            false_negatives[etiqueta_real] += 1\n",
        "            for clase in clases:\n",
        "                if clase != etiqueta_real and clase != prediccion:\n",
        "                    true_negatives[clase] += 1\n",
        "\n",
        "    # Calculate precision, recall, and F1-score for each class\n",
        "    precision = {} #Proporción de instancias correctamente predichas para una clase específica entre todas las instancias predichas como esa clase.\n",
        "    recall = {} #Proporción de instancias de una clase específica que fueron correctamente identificadas.\n",
        "    f1_score = {} # Media armónica de la precisión y el recall, balanceando ambas métricas.\n",
        "\n",
        "    for clase in clases:\n",
        "        precision[clase] = true_positives[clase] / (true_positives[clase] + false_positives[clase]) if (true_positives[clase] + false_positives[clase]) > 0 else 0\n",
        "        recall[clase] = true_positives[clase] / (true_positives[clase] + false_negatives[clase]) if (true_positives[clase] + false_negatives[clase]) > 0 else 0\n",
        "        f1_score[clase] = 2 * (precision[clase] * recall[clase]) / (precision[clase] + recall[clase]) if (precision[clase] + recall[clase]) > 0 else 0\n",
        "\n",
        "    # Calculate overall accuracy\n",
        "    aciertos = sum(true_positives.values())\n",
        "    precision_general = aciertos / len(test) #Proporción de instancias correctamente predichas entre todas las instancias.\n",
        "\n",
        "    resultados['Accuaracy'].append(precision_general)\n",
        "    resultados['Precisión'].append(precision)\n",
        "    resultados['Recall'].append(recall)\n",
        "    resultados['F1-Score'].append(f1_score)\n",
        "\n",
        "    print(resultados)\n",
        "\n",
        "\n",
        "    return precision_general, precision, recall, f1_score"
      ],
      "metadata": {
        "id": "egdkjco48kJl"
      },
      "execution_count": null,
      "outputs": []
    },
    {
      "cell_type": "code",
      "source": [
        "evaluar(train,test)"
      ],
      "metadata": {
        "id": "_ZahIzOD8mFT",
        "colab": {
          "base_uri": "https://localhost:8080/"
        },
        "outputId": "ee80ef57-0e17-44d1-aeca-7d45b7f97b9a"
      },
      "execution_count": null,
      "outputs": [
        {
          "output_type": "stream",
          "name": "stdout",
          "text": [
            "{'Accuaracy': [0.7429906542056075], 'Precisión': [{0.0: 0.7972602739726027, 1.0: 0.42857142857142855}], 'Recall': [{0.0: 0.8899082568807339, 1.0: 0.26732673267326734}], 'F1-Score': [{0.0: 0.8410404624277457, 1.0: 0.3292682926829268}]}\n"
          ]
        },
        {
          "output_type": "execute_result",
          "data": {
            "text/plain": [
              "(0.7429906542056075,\n",
              " {0.0: 0.7972602739726027, 1.0: 0.42857142857142855},\n",
              " {0.0: 0.8899082568807339, 1.0: 0.26732673267326734},\n",
              " {0.0: 0.8410404624277457, 1.0: 0.3292682926829268})"
            ]
          },
          "metadata": {},
          "execution_count": 143
        }
      ]
    },
    {
      "cell_type": "code",
      "source": [
        "##### DE CHATGPT FALTA VERIFICAR\n",
        "# Entrenamiento y evaluación del modelo para cada valor de m\n",
        "for m in m_values:\n",
        "    print(f'\\nEvaluando para m = {m}')\n",
        "    nb = NaiveBayesWithM(m)\n",
        "    nb.fit(X_train, y_train)\n",
        "    y_pred = nb.predict(X_test)\n",
        "\n",
        "    # Matriz de confusión\n",
        "    cm = confusion_matrix(y_test, y_pred)\n",
        "    print(\"Matriz de confusión:\")\n",
        "    print(cm)\n",
        "\n",
        "    # Curva precision-recall\n",
        "    precision, recall, _ = precision_recall_curve(y_test, y_pred)\n",
        "    plt.plot(recall, precision, label=f'm = {m}')\n",
        "    plt.xlabel('Recall')\n",
        "    plt.ylabel('Precision')\n",
        "\n",
        "    # Reporte de clasificación\n",
        "    print(classification_report(y_test, y_pred))\n",
        "\n",
        "plt.title('Curva Precision-Recall para diferentes valores de m')\n",
        "plt.legend()\n",
        "plt.show()\n",
        "\n",
        "# Validación cruzada (ejemplo de 5 folds)\n",
        "scores = cross_val_score(nb.model, X_new, y, cv=5)\n",
        "print(f'Cross-validation scores: {scores}')\n",
        "print(f'Promedio de cross-validation: {np.mean(scores)}')"
      ],
      "metadata": {
        "id": "7lnUoJ3BLdjS"
      },
      "execution_count": null,
      "outputs": []
    },
    {
      "cell_type": "markdown",
      "metadata": {
        "id": "yGLQAaJApHeJ"
      },
      "source": [
        "## Por ejemplo, para un jugador:\n",
        "    \n",
        "## 2.1 Juego\n",
        "- Decisiones sobre las reglas de juego, simplificaciones, etc.\n",
        "\n",
        "\n",
        "## 2.2 Tablero\n",
        "- Representación del tablero, justificación de los atributos utilizados\n",
        "- ¿Se prueban con varios subconjuntos de atributos distintos?; en caso afirmativo, ¿por qué?\n",
        "- Ejemplos de algunos tableros y el valor de los atributos elegidos.\n",
        "\n",
        "\n",
        "## 2.4 Algoritmo\n",
        "- ¿cómo se representa a la función de valoración? ¿qué valores toma?\n",
        "- ¿cómo se ajusta?\n",
        "- ¿cuándo se ajusta? ¿cada turno? ¿final del partido? ¿cada N partidos?\n",
        "- ¿con qué valores de $\\alpha$ se prueba? ¿por qué?\n",
        "- ¿Se utiliza enfriamiento? ¿cómo?\n",
        "\n",
        "Tal vez precisen agregar algo de pseudocódigo o código para ejemplificar:\n",
        "\n",
        "```python\n",
        "    def f(x):\n",
        "        return x\n",
        "```\n",
        "\n",
        "## 2.4 Contrarios\n",
        "- ¿qué jugadores contrarios se implementan? describir cada uno.\n",
        "- por ejemplo, deben quedar respondidas las siguientes preguntas: ¿cómo se eligen las jugadas del jugador al azar? ¿cada cuánto se actualizan los pesos de \"mi versión previa\"?"
      ]
    },
    {
      "cell_type": "markdown",
      "metadata": {
        "id": "rLQO9IZPpHeK"
      },
      "source": [
        "## Por ejemplo, para un clasificador:\n",
        "    \n",
        "\n",
        "## 2.1 Preprocesamiento de datos\n",
        "- Decisiones sobre tratamiento de datos numéricos, faltantes, etc. antes de la aplicación de el algoritmo\n",
        "- Selección/generación de atributos\n",
        "\n",
        "\n",
        "## 2.2 Algoritmo\n",
        "Extensiones del algoritmo original necesarias para la resolución del problema: tratamiento de atributos faltantes, numéricos, etc. (si es el propio algoritmo el que lo maneja), implementaciones adicionales necesarias para manejar ensambles de clasificadores, etc.\n",
        "\n",
        "\n",
        "## 2.3 Evaluación\n",
        "- Qué conjunto de métricas se utilizan para la evaluación de la solución y su definición\n",
        "- Sobre qué conjunto(s) se realiza el entrenamiento, ajuste de la solución, evaluación, etc. Explicar cómo se construyen estos conjuntos."
      ]
    },
    {
      "cell_type": "markdown",
      "metadata": {
        "id": "XMd8r7PxpHeL"
      },
      "source": [
        "## 3. Experimentación"
      ]
    },
    {
      "cell_type": "markdown",
      "metadata": {
        "id": "EXs2zOJBpHeL"
      },
      "source": [
        "- Presentar los distintos experimentos que se realizan y los resultados que se obtienen.\n",
        "\n",
        "- La información de los resultados se presenta en tablas y en gráficos, de acuerdo a su naturaleza. Por ejemplo:\n",
        "\n",
        "_En la gráfica 1, se observa el error cuadrático total del conjunto de entrenamiento a medida que pasan los juegos para el oponente X_"
      ]
    },
    {
      "cell_type": "code",
      "execution_count": null,
      "metadata": {
        "id": "tzp9FwIupHeM",
        "outputId": "8e7d75a0-0179-4d08-e4d5-40d209d575cd",
        "colab": {
          "base_uri": "https://localhost:8080/",
          "height": 468
        }
      },
      "outputs": [
        {
          "output_type": "execute_result",
          "data": {
            "text/plain": [
              "[<matplotlib.lines.Line2D at 0x7a9a4e3ed8d0>]"
            ]
          },
          "metadata": {},
          "execution_count": 144
        },
        {
          "output_type": "display_data",
          "data": {
            "text/plain": [
              "<Figure size 640x480 with 1 Axes>"
            ],
            "image/png": "[encoded data removed]"
          },
          "metadata": {}
        }
      ],
      "source": [
        "import matplotlib.pyplot\n",
        "matplotlib.pyplot.plot(range(0,100), [2**-(x/10) for x in range(0,100)])"
      ]
    },
    {
      "cell_type": "markdown",
      "metadata": {
        "id": "7qSIucvPpHeN"
      },
      "source": [
        "\n",
        "- Debe existir alguna instancia donde se compile la información relevante de los experimentos de forma de poder comparar fácilmente los distintos experimentos. Por ejemplo:\n",
        "\n",
        "_En la tabla 1, se presentan los distintos resultados contra el jugador aleatorio, para los distintos valores de $\\alpha$ elegidos. El mejor resultado se obtiene para $\\alpha=0.05$, lo que prueba que la estrategia..._\n",
        "\n",
        "<table>\n",
        "  <tr>\n",
        "    <th>$\\alpha$</th>\n",
        "    <th>...</th>\n",
        "    <th>Turnos</th>\n",
        "    <th>Error</th>\n",
        "  </tr>\n",
        "  <tr>\n",
        "    <td>0.001</td>\n",
        "    <td>...</td>\n",
        "    <td>100</td>\n",
        "    <td>0.991</td>\n",
        "  </tr>    \n",
        "  <tr>\n",
        "    <td>0.005</td>\n",
        "    <td>...</td>\n",
        "    <td>100</td>\n",
        "    <td>0.987</td>\n",
        "  </tr>\n",
        "  <tr style=\"font-weight:bold\">\n",
        "    <td>0.05</td>\n",
        "    <td>...</td>\n",
        "    <td>100</td>\n",
        "    <td>0.329</td>\n",
        "  </tr>\n",
        "  <tr>\n",
        "    <td>0.5</td>\n",
        "    <td>...</td>\n",
        "    <td>100</td>\n",
        "    <td>0.564</td>\n",
        "  </tr>    \n",
        "    <caption>Tabla 1 - Entrenamiento del jugador X para distintos valores de $\\alpha$</caption>\n",
        "</table>\n"
      ]
    },
    {
      "cell_type": "markdown",
      "metadata": {
        "id": "e8i-yI3XpHeN"
      },
      "source": [
        "## 4. Conclusión"
      ]
    },
    {
      "cell_type": "markdown",
      "metadata": {
        "id": "mXQ-kzD7pHeO"
      },
      "source": [
        "Una breve conclusión del trabajo realizado. Por ejemplo:\n",
        "- ¿cuándo se dieron los mejores resultados del jugador?\n",
        "- ¿encuentra alguna relación con los parámetros / oponentes/ atributos elegidos?\n",
        "- ¿cómo mejoraría los resultados?"
      ]
    },
    {
      "cell_type": "code",
      "execution_count": null,
      "metadata": {
        "id": "lE4U1rwYpHeO"
      },
      "outputs": [],
      "source": []
    },
    {
      "cell_type": "code",
      "execution_count": null,
      "metadata": {
        "id": "RvO2bq19pHeO"
      },
      "outputs": [],
      "source": []
    }
  ],
  "metadata": {
    "kernelspec": {
      "display_name": "Python 3",
      "language": "python",
      "name": "python3"
    },
    "language_info": {
      "codemirror_mode": {
        "name": "ipython",
        "version": 3
      },
      "file_extension": ".py",
      "mimetype": "text/x-python",
      "name": "python",
      "nbconvert_exporter": "python",
      "pygments_lexer": "ipython3",
      "version": "3.7.0"
    },
    "colab": {
      "provenance": []
    }
  },
  "nbformat": 4,
  "nbformat_minor": 0
}